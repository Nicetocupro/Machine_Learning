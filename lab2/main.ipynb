{
 "cells": [
  {
   "cell_type": "code",
   "execution_count": 1,
   "id": "initial_id",
   "metadata": {
    "ExecuteTime": {
     "end_time": "2024-11-15T16:11:46.663650600Z",
     "start_time": "2024-11-15T16:11:43.286817900Z"
    }
   },
   "outputs": [
    {
     "name": "stdout",
     "output_type": "stream",
     "text": [
      "# packages in environment at /root/miniconda3:\n",
      "#\n",
      "# Name                    Version                   Build  Channel\n",
      "_libgcc_mutex             0.1                        main    defaults\n",
      "_openmp_mutex             4.5                       1_gnu    defaults\n",
      "absl-py                   1.0.0                    pypi_0    pypi\n",
      "anyio                     3.4.0                    pypi_0    pypi\n",
      "argon2-cffi               21.1.0                   pypi_0    pypi\n",
      "attrs                     21.2.0                   pypi_0    pypi\n",
      "babel                     2.9.1                    pypi_0    pypi\n",
      "backcall                  0.2.0                    pypi_0    pypi\n",
      "bleach                    4.1.0                    pypi_0    pypi\n",
      "brotlipy                  0.7.0           py38h27cfd23_1003    defaults\n",
      "ca-certificates           2021.7.5             h06a4308_1    defaults\n",
      "cachetools                4.2.4                    pypi_0    pypi\n",
      "certifi                   2021.5.30        py38h06a4308_0    defaults\n",
      "cffi                      1.14.6           py38h400218f_0    defaults\n",
      "chardet                   4.0.0           py38h06a4308_1003    defaults\n",
      "charset-normalizer        3.4.0                    pypi_0    pypi\n",
      "conda                     4.10.3           py38h06a4308_0    defaults\n",
      "conda-package-handling    1.7.3            py38h27cfd23_1    defaults\n",
      "cryptography              3.4.7            py38hd23ed53_0    defaults\n",
      "cycler                    0.11.0                   pypi_0    pypi\n",
      "debugpy                   1.5.1                    pypi_0    pypi\n",
      "decorator                 5.1.0                    pypi_0    pypi\n",
      "defusedxml                0.7.1                    pypi_0    pypi\n",
      "entrypoints               0.3                      pypi_0    pypi\n",
      "fonttools                 4.28.2                   pypi_0    pypi\n",
      "google-auth               2.3.3                    pypi_0    pypi\n",
      "google-auth-oauthlib      0.4.6                    pypi_0    pypi\n",
      "grpcio                    1.42.0                   pypi_0    pypi\n",
      "idna                      2.10               pyhd3eb1b0_0    defaults\n",
      "importlib-metadata        4.8.2                    pypi_0    pypi\n",
      "importlib-resources       5.4.0                    pypi_0    pypi\n",
      "ipykernel                 6.5.1                    pypi_0    pypi\n",
      "ipython                   7.29.0                   pypi_0    pypi\n",
      "ipython-genutils          0.2.0                    pypi_0    pypi\n",
      "ipywidgets                7.6.5                    pypi_0    pypi\n",
      "jedi                      0.18.1                   pypi_0    pypi\n",
      "jinja2                    3.0.3                    pypi_0    pypi\n",
      "json5                     0.9.6                    pypi_0    pypi\n",
      "jsonschema                4.2.1                    pypi_0    pypi\n",
      "jupyter-client            7.1.0                    pypi_0    pypi\n",
      "jupyter-core              4.9.1                    pypi_0    pypi\n",
      "jupyter-server            1.12.0                   pypi_0    pypi\n",
      "jupyterlab                3.2.4                    pypi_0    pypi\n",
      "jupyterlab-language-pack-zh-cn 3.2.post2                pypi_0    pypi\n",
      "jupyterlab-pygments       0.1.2                    pypi_0    pypi\n",
      "jupyterlab-server         2.8.2                    pypi_0    pypi\n",
      "jupyterlab-widgets        1.0.2                    pypi_0    pypi\n",
      "kiwisolver                1.3.2                    pypi_0    pypi\n",
      "ld_impl_linux-64          2.35.1               h7274673_9    defaults\n",
      "libffi                    3.3                  he6710b0_2    defaults\n",
      "libgcc-ng                 9.3.0               h5101ec6_17    defaults\n",
      "libgomp                   9.3.0               h5101ec6_17    defaults\n",
      "libstdcxx-ng              9.3.0               hd4cf53a_17    defaults\n",
      "markdown                  3.3.6                    pypi_0    pypi\n",
      "markupsafe                2.0.1                    pypi_0    pypi\n",
      "matplotlib                3.5.0                    pypi_0    pypi\n",
      "matplotlib-inline         0.1.3                    pypi_0    pypi\n",
      "mistune                   0.8.4                    pypi_0    pypi\n",
      "nbclassic                 0.3.4                    pypi_0    pypi\n",
      "nbclient                  0.5.9                    pypi_0    pypi\n",
      "nbconvert                 6.3.0                    pypi_0    pypi\n",
      "nbformat                  5.1.3                    pypi_0    pypi\n",
      "ncurses                   6.2                  he6710b0_1    defaults\n",
      "nest-asyncio              1.5.1                    pypi_0    pypi\n",
      "notebook                  6.4.6                    pypi_0    pypi\n",
      "numpy                     1.21.4                   pypi_0    pypi\n",
      "nvidia-nccl-cu12          2.23.4                   pypi_0    pypi\n",
      "oauthlib                  3.1.1                    pypi_0    pypi\n",
      "openssl                   1.1.1k               h27cfd23_0    defaults\n",
      "packaging                 21.3                     pypi_0    pypi\n",
      "pandas                    2.0.3                    pypi_0    pypi\n",
      "pandocfilters             1.5.0                    pypi_0    pypi\n",
      "parso                     0.8.2                    pypi_0    pypi\n",
      "pexpect                   4.8.0                    pypi_0    pypi\n",
      "pickleshare               0.7.5                    pypi_0    pypi\n",
      "pillow                    8.4.0                    pypi_0    pypi\n",
      "pip                       21.1.3           py38h06a4308_0    defaults\n",
      "prometheus-client         0.12.0                   pypi_0    pypi\n",
      "prompt-toolkit            3.0.22                   pypi_0    pypi\n",
      "protobuf                  3.19.1                   pypi_0    pypi\n",
      "ptyprocess                0.7.0                    pypi_0    pypi\n",
      "pyasn1                    0.4.8                    pypi_0    pypi\n",
      "pyasn1-modules            0.2.8                    pypi_0    pypi\n",
      "pycosat                   0.6.3            py38h7b6447c_1    defaults\n",
      "pycparser                 2.20                       py_2    defaults\n",
      "pygments                  2.10.0                   pypi_0    pypi\n",
      "pyopenssl                 20.0.1             pyhd3eb1b0_1    defaults\n",
      "pyparsing                 3.0.6                    pypi_0    pypi\n",
      "pyrsistent                0.18.0                   pypi_0    pypi\n",
      "pysocks                   1.7.1            py38h06a4308_0    defaults\n",
      "python                    3.8.10               h12debd9_8    defaults\n",
      "python-dateutil           2.8.2                    pypi_0    pypi\n",
      "pytz                      2021.3                   pypi_0    pypi\n",
      "pyzmq                     22.3.0                   pypi_0    pypi\n",
      "readline                  8.1                  h27cfd23_0    defaults\n",
      "requests                  2.25.1             pyhd3eb1b0_0    defaults\n",
      "requests-oauthlib         1.3.0                    pypi_0    pypi\n",
      "rsa                       4.8                      pypi_0    pypi\n",
      "ruamel_yaml               0.15.100         py38h27cfd23_0    defaults\n",
      "scipy                     1.10.1                   pypi_0    pypi\n",
      "seaborn                   0.13.2                   pypi_0    pypi\n",
      "send2trash                1.8.0                    pypi_0    pypi\n",
      "setuptools                52.0.0           py38h06a4308_0    defaults\n",
      "setuptools-scm            6.3.2                    pypi_0    pypi\n",
      "six                       1.16.0             pyhd3eb1b0_0    defaults\n",
      "sniffio                   1.2.0                    pypi_0    pypi\n",
      "sqlite                    3.36.0               hc218d9a_0    defaults\n",
      "supervisor                4.2.2                    pypi_0    pypi\n",
      "tensorboard               2.7.0                    pypi_0    pypi\n",
      "tensorboard-data-server   0.6.1                    pypi_0    pypi\n",
      "tensorboard-plugin-wit    1.8.0                    pypi_0    pypi\n",
      "terminado                 0.12.1                   pypi_0    pypi\n",
      "testpath                  0.5.0                    pypi_0    pypi\n",
      "tk                        8.6.10               hbc83047_0    defaults\n",
      "tomli                     1.2.2                    pypi_0    pypi\n",
      "torch                     1.10.0+cu113             pypi_0    pypi\n",
      "torchvision               0.11.1+cu113             pypi_0    pypi\n",
      "tornado                   6.1                      pypi_0    pypi\n",
      "tqdm                      4.61.2             pyhd3eb1b0_1    defaults\n",
      "traitlets                 5.1.1                    pypi_0    pypi\n",
      "typing-extensions         4.0.0                    pypi_0    pypi\n",
      "tzdata                    2024.2                   pypi_0    pypi\n",
      "urllib3                   1.26.6             pyhd3eb1b0_1    defaults\n",
      "wcwidth                   0.2.5                    pypi_0    pypi\n",
      "webencodings              0.5.1                    pypi_0    pypi\n",
      "websocket-client          1.2.1                    pypi_0    pypi\n",
      "werkzeug                  2.0.2                    pypi_0    pypi\n",
      "wheel                     0.36.2             pyhd3eb1b0_0    defaults\n",
      "widgetsnbextension        3.5.2                    pypi_0    pypi\n",
      "xgboost                   2.1.2                    pypi_0    pypi\n",
      "xz                        5.2.5                h7b6447c_0    defaults\n",
      "yaml                      0.2.5                h7b6447c_0    defaults\n",
      "zipp                      3.6.0                    pypi_0    pypi\n",
      "zlib                      1.2.11               h7b6447c_3    defaults\n"
     ]
    }
   ],
   "source": [
    "!conda list"
   ]
  },
  {
   "cell_type": "code",
   "execution_count": 2,
   "id": "4e35e728-ad6c-405f-877e-45e8938c5d50",
   "metadata": {},
   "outputs": [
    {
     "name": "stderr",
     "output_type": "stream",
     "text": [
      "2024-11-17 16:58:11.093090: I tensorflow/core/platform/cpu_feature_guard.cc:193] This TensorFlow binary is optimized with oneAPI Deep Neural Network Library (oneDNN) to use the following CPU instructions in performance-critical operations:  AVX2 FMA\n",
      "To enable them in other operations, rebuild TensorFlow with the appropriate compiler flags.\n",
      "2024-11-17 16:58:11.938890: W tensorflow/compiler/xla/stream_executor/platform/default/dso_loader.cc:64] Could not load dynamic library 'libnvinfer.so.7'; dlerror: libnvinfer.so.7: cannot open shared object file: No such file or directory; LD_LIBRARY_PATH: /usr/local/nvidia/lib:/usr/local/nvidia/lib64\n",
      "2024-11-17 16:58:11.938972: W tensorflow/compiler/xla/stream_executor/platform/default/dso_loader.cc:64] Could not load dynamic library 'libnvinfer_plugin.so.7'; dlerror: libnvinfer_plugin.so.7: cannot open shared object file: No such file or directory; LD_LIBRARY_PATH: /usr/local/nvidia/lib:/usr/local/nvidia/lib64\n",
      "2024-11-17 16:58:11.938976: W tensorflow/compiler/tf2tensorrt/utils/py_utils.cc:38] TF-TRT Warning: Cannot dlopen some TensorRT libraries. If you would like to use Nvidia GPU with TensorRT, please make sure the missing libraries mentioned above are installed properly.\n"
     ]
    }
   ],
   "source": [
    "import torch\n",
    "import torch.optim as optim\n",
    "import torch.nn as nn\n",
    "import torch.nn.functional as F\n",
    "from sklearn.metrics import accuracy_score, confusion_matrix, roc_curve, auc\n",
    "from sklearn.model_selection import train_test_split, GridSearchCV, cross_val_score\n",
    "from sklearn.preprocessing import OrdinalEncoder, LabelEncoder, StandardScaler\n",
    "from sklearn.neighbors import kneighbors_graph\n",
    "import pandas as pd\n",
    "import numpy as np\n",
    "import matplotlib.pyplot as plt\n",
    "import seaborn as sns\n",
    "import xgboost as xgb\n",
    "from sklearn.ensemble import RandomForestClassifier, VotingClassifier\n",
    "from models.GCN import GCN\n",
    "from models.RNN import RNN\n",
    "from models.SVM import SVM\n",
    "from models.DecisionTree import DecisionTreeID3, DecisionTreeCART\n",
    "from models.LogisticRegression import LogisticRegression\n",
    "from models.CNN import SimpleCNN\n",
    "import dgl"
   ]
  },
  {
   "cell_type": "code",
   "execution_count": 3,
   "id": "f30baef2b8b30d41",
   "metadata": {
    "ExecuteTime": {
     "start_time": "2024-11-15T16:11:46.661646600Z"
    },
    "collapsed": false
   },
   "outputs": [],
   "source": [
    "# 使用KNN图构建\n",
    "def create_graph_from_data(features, n_neighbors=15):  # 增加邻居数\n",
    "    knn_graph = kneighbors_graph(features, n_neighbors=n_neighbors, mode='connectivity', include_self=False)\n",
    "    knn_graph = knn_graph.astype(np.float32).todense()\n",
    "\n",
    "    # 转换为DGL图\n",
    "    src, dst = np.where(knn_graph > 0)  # 获取非零元素的索引\n",
    "    src = torch.tensor(src, dtype=torch.int64)\n",
    "    dst = torch.tensor(dst, dtype=torch.int64)\n",
    "\n",
    "    # 创建DGL图\n",
    "    g = dgl.graph((src, dst))\n",
    "    g.ndata['feat'] = torch.tensor(features, dtype=torch.float32)\n",
    "\n",
    "    # 计算节点度数并进行归一化\n",
    "    in_degrees = g.in_degrees().float()\n",
    "    norm = 1.0 / in_degrees\n",
    "    g.ndata['norm'] = norm\n",
    "\n",
    "    return g"
   ]
  },
  {
   "cell_type": "code",
   "execution_count": 4,
   "id": "d9ec92a9d0e1dfaa",
   "metadata": {
    "ExecuteTime": {
     "start_time": "2024-11-15T16:11:46.663650600Z"
    },
    "collapsed": false
   },
   "outputs": [],
   "source": [
    "# 读取数据\n",
    "mushroom_data = pd.read_csv('data/mushrooms.csv', dtype=str)"
   ]
  },
  {
   "cell_type": "code",
   "execution_count": 5,
   "id": "254ed0a60a4c7647",
   "metadata": {
    "ExecuteTime": {
     "end_time": "2024-11-15T16:11:46.665648800Z",
     "start_time": "2024-11-15T16:11:46.665648800Z"
    },
    "collapsed": false
   },
   "outputs": [],
   "source": [
    "# 分离目标和特征\n",
    "target = mushroom_data['class']\n",
    "inputs = mushroom_data.drop(['class'], axis=1)"
   ]
  },
  {
   "cell_type": "code",
   "execution_count": 6,
   "id": "37245583b08951e6",
   "metadata": {
    "ExecuteTime": {
     "start_time": "2024-11-15T16:11:46.666648100Z"
    },
    "collapsed": false
   },
   "outputs": [],
   "source": [
    "# 数据集划分\n",
    "X_train, X_test, y_train, y_test = train_test_split(inputs, target, test_size=0.2, random_state=24, stratify=target)"
   ]
  },
  {
   "cell_type": "code",
   "execution_count": 7,
   "id": "45ad3fe82b7ca465",
   "metadata": {
    "ExecuteTime": {
     "start_time": "2024-11-15T16:11:46.669649600Z"
    },
    "collapsed": false
   },
   "outputs": [],
   "source": [
    "# 编码\n",
    "enc_i = OrdinalEncoder()\n",
    "enc_t = LabelEncoder()\n",
    "\n",
    "x_train_transf = enc_i.fit_transform(X_train)\n",
    "x_test_transf = enc_i.transform(X_test)\n",
    "\n",
    "y_train_transf = enc_t.fit_transform(y_train)\n",
    "y_test_transf = enc_t.transform(y_test)"
   ]
  },
  {
   "cell_type": "code",
   "execution_count": 8,
   "id": "36b6f9d1-65d4-45e2-8dd1-4564fd3c90d7",
   "metadata": {},
   "outputs": [],
   "source": [
    "# 确定分类任务的类别数\n",
    "num_classes = len(np.unique(y_train_transf))"
   ]
  },
  {
   "cell_type": "code",
   "execution_count": 9,
   "id": "ae4dc605ed96d96d",
   "metadata": {
    "ExecuteTime": {
     "start_time": "2024-11-15T16:11:46.671648200Z"
    },
    "collapsed": false
   },
   "outputs": [],
   "source": [
    "# 构建训练图\n",
    "X_train_tensor = torch.tensor(x_train_transf, dtype=torch.float32)\n",
    "y_train_tensor = torch.tensor(y_train_transf, dtype=torch.long)\n",
    "X_test_tensor = torch.tensor(x_test_transf, dtype=torch.float32)\n",
    "\n",
    "# 数据标准化\n",
    "X_train_tensor = F.normalize(X_train_tensor, p=2, dim=1)\n",
    "X_test_tensor = F.normalize(X_test_tensor, p=2, dim=1)"
   ]
  },
  {
   "cell_type": "code",
   "execution_count": 10,
   "id": "650b2f0b-80a5-48da-970f-a6fe3d0b3288",
   "metadata": {},
   "outputs": [],
   "source": [
    "# 标准化数据\n",
    "scaler = StandardScaler()\n",
    "x_train_transf_scaler = scaler.fit_transform(x_train_transf)\n",
    "x_test_transf_scaler = scaler.transform(x_test_transf)"
   ]
  },
  {
   "cell_type": "code",
   "execution_count": 11,
   "id": "a5d7927bdab729f",
   "metadata": {
    "ExecuteTime": {
     "end_time": "2024-11-15T16:11:46.760339600Z",
     "start_time": "2024-11-15T16:11:46.674647500Z"
    },
    "collapsed": false
   },
   "outputs": [
    {
     "name": "stdout",
     "output_type": "stream",
     "text": [
      "Iteration 0: Loss = 0.6931\n",
      "Iteration 100: Loss = 0.4415\n",
      "Iteration 200: Loss = 0.3561\n",
      "Iteration 300: Loss = 0.3149\n",
      "Iteration 400: Loss = 0.2906\n",
      "Iteration 500: Loss = 0.2745\n",
      "Early stopping at iteration 597, Loss = 0.2633\n",
      "Training Accuracy (Logistic Regression): 90.71%\n",
      "Test Accuracy (Logistic Regression): 89.78%\n"
     ]
    }
   ],
   "source": [
    "# 初始化并训练Logistic Regression模型\n",
    "log_reg_model = LogisticRegression(learning_rate=0.01, n_iter=1000, verbose=True, early_stopping=True)\n",
    "log_reg_model.fit(x_train_transf_scaler, y_train_transf)\n",
    "\n",
    "# 预测与评估\n",
    "log_reg_predictions = log_reg_model.predict(x_test_transf_scaler)\n",
    "accuracy_log_reg = accuracy_score(y_test_transf, log_reg_predictions)\n",
    "\n",
    "# 计算训练集准确率\n",
    "train_predictions = log_reg_model.predict(x_train_transf_scaler)\n",
    "train_accuracy = accuracy_score(y_train_transf, train_predictions)\n",
    "print(f'Training Accuracy (Logistic Regression): {train_accuracy * 100:.2f}%')\n",
    "\n",
    "# 输出测试准确率\n",
    "print(f'Test Accuracy (Logistic Regression): {accuracy_log_reg * 100:.2f}%')"
   ]
  },
  {
   "cell_type": "code",
   "execution_count": 12,
   "id": "d578b91c4f058a29",
   "metadata": {
    "ExecuteTime": {
     "start_time": "2024-11-15T16:11:46.675650600Z"
    },
    "collapsed": false
   },
   "outputs": [
    {
     "name": "stdout",
     "output_type": "stream",
     "text": [
      "Epoch 0, Loss: 422.8684, Train Accuracy: 0.9109\n",
      "Epoch 10, Loss: 47235.7849, Train Accuracy: 0.7093\n",
      "Epoch 20, Loss: 143920.1659, Train Accuracy: 0.8320\n",
      "Epoch 30, Loss: 201551.0919, Train Accuracy: 0.9680\n",
      "Epoch 40, Loss: 246391.9606, Train Accuracy: 0.9492\n",
      "Epoch 50, Loss: 280292.1434, Train Accuracy: 0.9882\n",
      "Epoch 60, Loss: 304561.5344, Train Accuracy: 0.9895\n",
      "Epoch 70, Loss: 322022.1849, Train Accuracy: 0.8714\n",
      "Epoch 80, Loss: 335012.7366, Train Accuracy: 0.9708\n",
      "Epoch 90, Loss: 343721.4084, Train Accuracy: 0.9886\n",
      "Test Accuracy (SVM): 47.82%\n"
     ]
    }
   ],
   "source": [
    "# 初始化并训练SVM模型\n",
    "svm_model = SVM(C=1.0, kernel='linear', max_iter=100)\n",
    "svm_model.fit(x_train_transf_scaler, y_train_transf)\n",
    "\n",
    "# 预测与评估\n",
    "svm_predictions = svm_model.predict(x_test_transf_scaler)\n",
    "accuracy_svm = accuracy_score(y_test_transf, svm_predictions)\n",
    "\n",
    "# 输出测试准确率\n",
    "print(f'Test Accuracy (SVM): {accuracy_svm * 100:.2f}%')"
   ]
  },
  {
   "cell_type": "code",
   "execution_count": 13,
   "id": "dd7557c6",
   "metadata": {},
   "outputs": [
    {
     "name": "stdout",
     "output_type": "stream",
     "text": [
      "Epoch [10/100], Loss: 0.4366\n",
      "Epoch [20/100], Loss: 0.2842\n",
      "Epoch [30/100], Loss: 0.2407\n",
      "Epoch [40/100], Loss: 0.2078\n",
      "Epoch [50/100], Loss: 0.1890\n",
      "Epoch [60/100], Loss: 0.1928\n",
      "Epoch [70/100], Loss: 0.1780\n",
      "Epoch [80/100], Loss: 0.1638\n",
      "Epoch [90/100], Loss: 0.1589\n",
      "Epoch [100/100], Loss: 0.1598\n",
      "Test Accuracy: 93.11%\n"
     ]
    }
   ],
   "source": [
    "# 定义超参数\n",
    "input_size = X_train_tensor.shape[1]\n",
    "hidden_size = 256\n",
    "output_size = num_classes\n",
    "num_layers = 2\n",
    "learning_rate = 0.01\n",
    "num_epochs = 100\n",
    "\n",
    "# 初始化RNN模型\n",
    "rnn_model = RNN(input_size, hidden_size, output_size, num_layers)\n",
    "rnn_model = rnn_model.to(X_train_tensor.device)\n",
    "\n",
    "# 定义损失函数和优化器\n",
    "criterion = nn.CrossEntropyLoss()\n",
    "optimizer = optim.Adam(rnn_model.parameters(), lr=learning_rate)\n",
    "\n",
    "# 训练RNN模型\n",
    "for epoch in range(num_epochs):\n",
    "    rnn_model.train()\n",
    "    outputs = rnn_model(X_train_tensor.unsqueeze(1))  # 增加维度以匹配RNN输入\n",
    "    loss = criterion(outputs, y_train_tensor)\n",
    "\n",
    "    optimizer.zero_grad()\n",
    "    loss.backward()\n",
    "    optimizer.step()\n",
    "\n",
    "    if (epoch+1) % 10 == 0:\n",
    "        print(f'Epoch [{epoch+1}/{num_epochs}], Loss: {loss.item():.4f}')\n",
    "\n",
    "# 测试RNN模型\n",
    "rnn_model.eval()\n",
    "with torch.no_grad():\n",
    "    test_outputs = rnn_model(X_test_tensor.unsqueeze(1))  # 增加维度以匹配RNN输入\n",
    "    _, predicted = torch.max(test_outputs.data, 1)\n",
    "    accuracy = accuracy_score(y_test_transf, predicted.cpu().numpy())\n",
    "    print(f'Test Accuracy: {accuracy * 100:.2f}%')"
   ]
  },
  {
   "cell_type": "code",
   "execution_count": 14,
   "id": "e836e3246c1bb00e",
   "metadata": {
    "ExecuteTime": {
     "start_time": "2024-11-15T16:11:46.677647Z"
    },
    "collapsed": false
   },
   "outputs": [
    {
     "name": "stdout",
     "output_type": "stream",
     "text": [
      "Test Accuracy (ID3): 97.66%\n"
     ]
    }
   ],
   "source": [
    "# 使用ID3算法训练决策树\n",
    "id3_model = DecisionTreeID3(max_depth=5)  # 可以根据需要调整最大深度\n",
    "id3_model.fit(x_train_transf, y_train_transf)\n",
    "\n",
    "# 在测试集上进行预测\n",
    "id3_predictions = id3_model.predict(x_test_transf)\n",
    "\n",
    "# 计算准确率\n",
    "id3_accuracy = accuracy_score(y_test_transf, id3_predictions)\n",
    "print(f'Test Accuracy (ID3): {id3_accuracy * 100:.2f}%')"
   ]
  },
  {
   "cell_type": "code",
   "execution_count": 15,
   "id": "cf7ac228-92c9-4792-b0c7-bdec93b005d9",
   "metadata": {},
   "outputs": [
    {
     "name": "stdout",
     "output_type": "stream",
     "text": [
      "Test Accuracy (CART): 97.54%\n"
     ]
    }
   ],
   "source": [
    "# 使用CART算法训练决策树\n",
    "cart_model = DecisionTreeCART(max_depth=5)  # 可以根据需要调整最大深度\n",
    "cart_model.fit(x_train_transf, y_train_transf)\n",
    "\n",
    "# 在测试集上进行预测\n",
    "cart_predictions = cart_model.predict(x_test_transf)\n",
    "\n",
    "# 计算准确率\n",
    "cart_accuracy = accuracy_score(y_test_transf, cart_predictions)\n",
    "print(f'Test Accuracy (CART): {cart_accuracy * 100:.2f}%')"
   ]
  },
  {
   "cell_type": "code",
   "execution_count": 20,
   "id": "5ec56df0218bacaf",
   "metadata": {
    "collapsed": false
   },
   "outputs": [
    {
     "name": "stdout",
     "output_type": "stream",
     "text": [
      "Random Forest Classification Report:\n",
      "               precision    recall  f1-score   support\n",
      "\n",
      "           0       0.97      0.93      0.95       842\n",
      "           1       0.93      0.97      0.95       783\n",
      "\n",
      "    accuracy                           0.95      1625\n",
      "   macro avg       0.95      0.95      0.95      1625\n",
      "weighted avg       0.95      0.95      0.95      1625\n",
      "\n",
      "Confusion Matrix:\n",
      " [[787  55]\n",
      " [ 24 759]]\n",
      "AUC Score: 0.952013996960348\n",
      "AP Score: 0.9186213587592897\n"
     ]
    }
   ],
   "source": [
    "from models.RandomForest import train_random_forest\n",
    "\n",
    "# 随机森林\n",
    "rf_model = train_random_forest(x_train_transf_scaler, y_train_transf, x_test_transf_scaler, y_test_transf)\n",
    "\n",
    "# 预测\n",
    "rf_predictions = rf_model.predict(x_test_transf_scaler)\n",
    "\n",
    "# 计算准确率\n",
    "rf_accuracy = accuracy_score(y_test_transf, rf_predictions)"
   ]
  },
  {
   "cell_type": "code",
   "execution_count": 27,
   "id": "76fe3c4cb02bf1c5",
   "metadata": {
    "collapsed": false
   },
   "outputs": [
    {
     "name": "stderr",
     "output_type": "stream",
     "text": [
      "2024-11-17 17:08:50.550905: I tensorflow/core/platform/cpu_feature_guard.cc:193] This TensorFlow binary is optimized with oneAPI Deep Neural Network Library (oneDNN) to use the following CPU instructions in performance-critical operations:  AVX2 FMA\n",
      "To enable them in other operations, rebuild TensorFlow with the appropriate compiler flags.\n"
     ]
    },
    {
     "name": "stdout",
     "output_type": "stream",
     "text": [
      "Epoch 1/20\n"
     ]
    },
    {
     "name": "stderr",
     "output_type": "stream",
     "text": [
      "2024-11-17 17:08:53.939665: I tensorflow/core/common_runtime/gpu/gpu_device.cc:1613] Created device /job:localhost/replica:0/task:0/device:GPU:0 with 20850 MB memory:  -> device: 0, name: NVIDIA GeForce RTX 3090, pci bus id: 0000:a1:00.0, compute capability: 8.6\n",
      "2024-11-17 17:08:55.633958: I tensorflow/compiler/xla/stream_executor/cuda/cuda_dnn.cc:428] Loaded cuDNN version 8200\n",
      "2024-11-17 17:08:57.159028: I tensorflow/compiler/xla/stream_executor/cuda/cuda_blas.cc:630] TensorFloat-32 will be used for the matrix multiplication. This will only be logged once.\n",
      "2024-11-17 17:08:57.163535: I tensorflow/compiler/xla/service/service.cc:173] XLA service 0xc6968ae0 initialized for platform CUDA (this does not guarantee that XLA will be used). Devices:\n",
      "2024-11-17 17:08:57.163562: I tensorflow/compiler/xla/service/service.cc:181]   StreamExecutor device (0): NVIDIA GeForce RTX 3090, Compute Capability 8.6\n",
      "2024-11-17 17:08:57.168999: I tensorflow/compiler/mlir/tensorflow/utils/dump_mlir_util.cc:268] disabling MLIR crash reproducer, set env var `MLIR_CRASH_REPRODUCER_DIRECTORY` to enable.\n",
      "2024-11-17 17:08:57.318888: I tensorflow/compiler/jit/xla_compilation_cache.cc:477] Compiled cluster using XLA!  This line is logged at most once for the lifetime of the process.\n"
     ]
    },
    {
     "name": "stdout",
     "output_type": "stream",
     "text": [
      "163/163 [==============================] - 5s 7ms/step - loss: 0.4914 - accuracy: 0.8417 - val_loss: 0.3126 - val_accuracy: 0.9192\n",
      "Epoch 2/20\n",
      "163/163 [==============================] - 1s 5ms/step - loss: 0.2589 - accuracy: 0.9142 - val_loss: 0.2020 - val_accuracy: 0.9223\n",
      "Epoch 3/20\n",
      "163/163 [==============================] - 1s 5ms/step - loss: 0.1900 - accuracy: 0.9240 - val_loss: 0.1508 - val_accuracy: 0.9446\n",
      "Epoch 4/20\n",
      "163/163 [==============================] - 1s 7ms/step - loss: 0.1488 - accuracy: 0.9444 - val_loss: 0.1227 - val_accuracy: 0.9554\n",
      "Epoch 5/20\n",
      "163/163 [==============================] - 1s 5ms/step - loss: 0.1289 - accuracy: 0.9483 - val_loss: 0.1030 - val_accuracy: 0.9592\n",
      "Epoch 6/20\n",
      "163/163 [==============================] - 1s 5ms/step - loss: 0.1111 - accuracy: 0.9552 - val_loss: 0.0964 - val_accuracy: 0.9646\n",
      "Epoch 7/20\n",
      "163/163 [==============================] - 1s 5ms/step - loss: 0.0952 - accuracy: 0.9611 - val_loss: 0.0762 - val_accuracy: 0.9669\n",
      "Epoch 8/20\n",
      "163/163 [==============================] - 1s 6ms/step - loss: 0.0874 - accuracy: 0.9644 - val_loss: 0.0760 - val_accuracy: 0.9677\n",
      "Epoch 9/20\n",
      "163/163 [==============================] - 1s 5ms/step - loss: 0.0738 - accuracy: 0.9725 - val_loss: 0.0769 - val_accuracy: 0.9646\n",
      "Epoch 10/20\n",
      "163/163 [==============================] - 1s 5ms/step - loss: 0.0745 - accuracy: 0.9711 - val_loss: 0.0573 - val_accuracy: 0.9792\n",
      "Epoch 11/20\n",
      "163/163 [==============================] - 1s 5ms/step - loss: 0.0598 - accuracy: 0.9758 - val_loss: 0.0544 - val_accuracy: 0.9815\n",
      "Epoch 12/20\n",
      "163/163 [==============================] - 1s 5ms/step - loss: 0.0520 - accuracy: 0.9810 - val_loss: 0.0427 - val_accuracy: 0.9838\n",
      "Epoch 13/20\n",
      "163/163 [==============================] - 1s 5ms/step - loss: 0.0484 - accuracy: 0.9831 - val_loss: 0.0382 - val_accuracy: 0.9885\n",
      "Epoch 14/20\n",
      "163/163 [==============================] - 1s 5ms/step - loss: 0.0437 - accuracy: 0.9846 - val_loss: 0.0355 - val_accuracy: 0.9923\n",
      "Epoch 15/20\n",
      "163/163 [==============================] - 1s 5ms/step - loss: 0.0396 - accuracy: 0.9869 - val_loss: 0.0374 - val_accuracy: 0.9869\n",
      "Epoch 16/20\n",
      "163/163 [==============================] - 1s 5ms/step - loss: 0.0356 - accuracy: 0.9881 - val_loss: 0.0354 - val_accuracy: 0.9892\n",
      "Epoch 17/20\n",
      "163/163 [==============================] - 1s 5ms/step - loss: 0.0330 - accuracy: 0.9896 - val_loss: 0.0261 - val_accuracy: 0.9908\n",
      "Epoch 18/20\n",
      "163/163 [==============================] - 1s 5ms/step - loss: 0.0319 - accuracy: 0.9879 - val_loss: 0.0283 - val_accuracy: 0.9900\n",
      "Epoch 19/20\n",
      "163/163 [==============================] - 1s 5ms/step - loss: 0.0238 - accuracy: 0.9929 - val_loss: 0.0256 - val_accuracy: 0.9915\n",
      "Epoch 20/20\n",
      "163/163 [==============================] - 1s 5ms/step - loss: 0.0252 - accuracy: 0.9917 - val_loss: 0.0200 - val_accuracy: 0.9946\n",
      "51/51 [==============================] - 0s 2ms/step\n",
      "Test Accuracy (CNN): 98.89%\n"
     ]
    }
   ],
   "source": [
    "from models.CNN import SimpleCNN\n",
    "\n",
    "# 初始化和训练 CNN 模型\n",
    "input_shape = (x_train_transf_scaler.shape[1], 1)\n",
    "cnn_model = SimpleCNN(input_shape=input_shape)\n",
    "cnn_model.train(x_train_transf_scaler, y_train_transf, epochs=20, batch_size=32, validation_split=0.2)\n",
    "\n",
    "# 评估 CNN 模型\n",
    "cnn_predictions = cnn_model.predict(x_test_transf_scaler)\n",
    "cnn_accuracy = accuracy_score(y_test_transf, cnn_predictions)\n",
    "\n",
    "# 打印 CNN 测试准确率\n",
    "print(f'Test Accuracy (CNN): {cnn_accuracy * 100:.2f}%')"
   ]
  },
  {
   "cell_type": "code",
   "execution_count": 28,
   "id": "b53aa5d49f3c395b",
   "metadata": {
    "ExecuteTime": {
     "start_time": "2024-11-15T16:11:46.678647Z"
    },
    "collapsed": false
   },
   "outputs": [
    {
     "name": "stdout",
     "output_type": "stream",
     "text": [
      "Test Accuracy (XGBoost): 100.00%\n"
     ]
    }
   ],
   "source": [
    "# XGBoost训练\n",
    "dtrain = xgb.DMatrix(x_train_transf, label=y_train_transf)\n",
    "dtest = xgb.DMatrix(x_test_transf, label=y_test_transf)\n",
    "\n",
    "# XGBoost超参数设置\n",
    "params = {\n",
    "    'objective': 'binary:logistic',  # 二分类\n",
    "    'eval_metric': 'logloss',\n",
    "    'max_depth': 6,  # 树的最大深度\n",
    "    'eta': 0.1,  # 学习率\n",
    "    'subsample': 0.8,  # 子样本比例\n",
    "    'colsample_bytree': 0.8,  # 树的列采样\n",
    "    'n_jobs': 4\n",
    "}\n",
    "\n",
    "# 训练\n",
    "num_round = 1000\n",
    "bst = xgb.train(params, dtrain, num_round)\n",
    "\n",
    "# 预测\n",
    "y_pred_xgb = bst.predict(dtest)\n",
    "y_pred_xgb = (y_pred_xgb > 0.5).astype(int)  # 二分类，阈值设置为0.5\n",
    "\n",
    "# 计算准确率\n",
    "accuracy_xgb = accuracy_score(y_test_transf, y_pred_xgb)\n",
    "print(f'Test Accuracy (XGBoost): {accuracy_xgb * 100:.2f}%')"
   ]
  },
  {
   "cell_type": "code",
   "execution_count": 29,
   "id": "8c648b8e2bedbc2d",
   "metadata": {
    "ExecuteTime": {
     "start_time": "2024-11-15T16:11:46.679646600Z"
    },
    "collapsed": false
   },
   "outputs": [
    {
     "name": "stderr",
     "output_type": "stream",
     "text": [
      "/root/miniconda3/envs/Machine_Learning/lib/python3.7/site-packages/ipykernel_launcher.py:13: UserWarning: To copy construct from a tensor, it is recommended to use sourceTensor.clone().detach() or sourceTensor.clone().detach().requires_grad_(True), rather than torch.tensor(sourceTensor).\n",
      "  del sys.path[0]\n"
     ]
    },
    {
     "name": "stdout",
     "output_type": "stream",
     "text": [
      "Epoch 0, Loss: 0.7312411069869995, Train Accuracy: 0.5359\n",
      "Epoch 10, Loss: 0.5052608251571655, Train Accuracy: 0.8426\n",
      "Epoch 20, Loss: 0.32755139470100403, Train Accuracy: 0.8504\n",
      "Epoch 30, Loss: 0.23029665648937225, Train Accuracy: 0.9095\n",
      "Epoch 40, Loss: 0.20786134898662567, Train Accuracy: 0.9203\n",
      "Epoch 50, Loss: 0.18243719637393951, Train Accuracy: 0.9178\n",
      "Epoch 60, Loss: 0.15928193926811218, Train Accuracy: 0.9529\n",
      "Epoch 70, Loss: 0.15025007724761963, Train Accuracy: 0.9468\n",
      "Epoch 80, Loss: 0.12217983603477478, Train Accuracy: 0.9660\n",
      "Epoch 90, Loss: 0.11547441780567169, Train Accuracy: 0.9685\n",
      "Epoch 100, Loss: 0.10252607613801956, Train Accuracy: 0.9665\n",
      "Epoch 110, Loss: 0.10061457008123398, Train Accuracy: 0.9698\n",
      "Epoch 120, Loss: 0.0890263244509697, Train Accuracy: 0.9711\n",
      "Epoch 130, Loss: 0.08981797099113464, Train Accuracy: 0.9712\n",
      "Epoch 140, Loss: 0.08171730488538742, Train Accuracy: 0.9782\n",
      "Epoch 150, Loss: 0.08499951660633087, Train Accuracy: 0.9705\n",
      "Epoch 160, Loss: 0.07377936691045761, Train Accuracy: 0.9786\n",
      "Epoch 170, Loss: 0.06606892496347427, Train Accuracy: 0.9825\n",
      "Epoch 180, Loss: 0.07020583003759384, Train Accuracy: 0.9797\n",
      "Epoch 190, Loss: 0.07355387508869171, Train Accuracy: 0.9794\n",
      "Epoch 200, Loss: 0.07487519830465317, Train Accuracy: 0.9783\n",
      "Epoch 210, Loss: 0.05340542271733284, Train Accuracy: 0.9835\n",
      "Epoch 220, Loss: 0.052383992820978165, Train Accuracy: 0.9862\n",
      "Epoch 230, Loss: 0.05690191313624382, Train Accuracy: 0.9851\n",
      "Epoch 240, Loss: 0.06524983793497086, Train Accuracy: 0.9829\n",
      "Epoch 250, Loss: 0.055525440722703934, Train Accuracy: 0.9794\n",
      "Epoch 260, Loss: 0.05194131284952164, Train Accuracy: 0.9840\n",
      "Epoch 270, Loss: 0.046117499470710754, Train Accuracy: 0.9925\n",
      "Epoch 280, Loss: 0.04418276622891426, Train Accuracy: 0.9891\n",
      "Epoch 290, Loss: 0.03834763914346695, Train Accuracy: 0.9915\n",
      "Test Accuracy: 93.11%\n"
     ]
    },
    {
     "name": "stderr",
     "output_type": "stream",
     "text": [
      "/root/miniconda3/envs/Machine_Learning/lib/python3.7/site-packages/ipykernel_launcher.py:13: UserWarning: To copy construct from a tensor, it is recommended to use sourceTensor.clone().detach() or sourceTensor.clone().detach().requires_grad_(True), rather than torch.tensor(sourceTensor).\n",
      "  del sys.path[0]\n"
     ]
    }
   ],
   "source": [
    "G_train = create_graph_from_data(X_train_tensor, n_neighbors=15)  # 增加邻居数\n",
    "\n",
    "# 定义超参数\n",
    "in_feats = X_train_tensor.shape[1]\n",
    "h_feats = 256  # 增大隐藏层维度\n",
    "num_classes = len(np.unique(y_train_transf))\n",
    "dropout = 0.5\n",
    "\n",
    "# 创建GCN模型\n",
    "model = GCN(in_feats=in_feats, hidden_feats=h_feats, out_feats=num_classes, dropout_rate=dropout)\n",
    "\n",
    "# 优化器与学习率调度器\n",
    "optimizer = optim.AdamW(model.parameters(), lr=0.005, weight_decay=1e-5)  # 使用AdamW\n",
    "scheduler = optim.lr_scheduler.StepLR(optimizer, step_size=50, gamma=0.5)\n",
    "\n",
    "# 损失函数\n",
    "loss_fn = torch.nn.CrossEntropyLoss()\n",
    "\n",
    "# 训练过程\n",
    "num_epochs = 300  # 增加训练轮数\n",
    "train_losses = []\n",
    "train_accuracies = []\n",
    "\n",
    "for epoch in range(num_epochs):\n",
    "    model.train()\n",
    "\n",
    "    # 前向传播\n",
    "    logits = model(G_train, G_train.ndata['feat'])\n",
    "\n",
    "    # 计算损失\n",
    "    loss = loss_fn(logits, y_train_tensor)\n",
    "\n",
    "    # 反向传播和优化\n",
    "    optimizer.zero_grad()\n",
    "    loss.backward()\n",
    "    optimizer.step()\n",
    "\n",
    "    # 更新学习率\n",
    "    scheduler.step()\n",
    "\n",
    "    # 记录训练损失\n",
    "    train_losses.append(loss.item())\n",
    "\n",
    "    # 计算训练精度\n",
    "    _, train_preds = torch.max(logits, dim=1)\n",
    "    train_accuracy = accuracy_score(y_train_tensor.cpu(), train_preds.cpu())\n",
    "    train_accuracies.append(train_accuracy)\n",
    "\n",
    "    # 每10轮打印一次损失和训练精度\n",
    "    if epoch % 10 == 0:\n",
    "        print(f'Epoch {epoch}, Loss: {loss.item()}, Train Accuracy: {train_accuracy:.4f}')\n",
    "\n",
    "# 测试过程\n",
    "model.eval()\n",
    "with torch.no_grad():\n",
    "    G_test = create_graph_from_data(X_test_tensor, n_neighbors=15)\n",
    "    logits_test = model(G_test, G_test.ndata['feat'])\n",
    "    predictions = torch.argmax(logits_test, dim=1)\n",
    "\n",
    "    # 计算测试准确率\n",
    "    accuracy_gcn = accuracy_score(y_test_transf, predictions.numpy())\n",
    "    print(f'Test Accuracy: {accuracy * 100:.2f}%')"
   ]
  },
  {
   "cell_type": "code",
   "execution_count": 30,
   "id": "879aa10e-f799-4b7e-b527-a1785b0e1c04",
   "metadata": {},
   "outputs": [
    {
     "name": "stdout",
     "output_type": "stream",
     "text": [
      "Model Comparison:\n",
      "                 Model  Test Accuracy (%)\n",
      "7              XGBoost         100.000000\n",
      "6                  CNN          98.892308\n",
      "3                  ID3          97.661538\n",
      "4                 CART          97.538462\n",
      "8                  GCN          96.615385\n",
      "5        Random Forest          95.138462\n",
      "2                  RNN          93.107692\n",
      "0  Logistic Regression          89.784615\n",
      "1                  SVM          47.815385\n"
     ]
    },
    {
     "data": {
      "image/png": "[encoded data removed]",
      "text/plain": [
       "<Figure size 1000x600 with 1 Axes>"
      ]
     },
     "metadata": {},
     "output_type": "display_data"
    }
   ],
   "source": [
    "import pandas as pd\n",
    "import seaborn as sns\n",
    "import matplotlib.pyplot as plt\n",
    "\n",
    "# 结果汇总\n",
    "results = {\n",
    "    'Model': ['Logistic Regression', 'SVM', 'RNN', 'ID3', 'CART', 'Random Forest', 'CNN', 'XGBoost', 'GCN'],\n",
    "    'Test Accuracy (%)': [\n",
    "        accuracy_log_reg * 100,\n",
    "        accuracy_svm * 100,\n",
    "        accuracy * 100,  # RNN的准确率\n",
    "        id3_accuracy * 100,\n",
    "        cart_accuracy * 100,\n",
    "        rf_accuracy * 100,  # Random Forest的准确率\n",
    "        cnn_accuracy * 100,  # CNN的准确率\n",
    "        accuracy_xgb * 100,  # XGBoost的准确率\n",
    "        accuracy_gcn * 100   # GCN的准确率\n",
    "    ]\n",
    "}\n",
    "\n",
    "# 创建DataFrame\n",
    "results_df = pd.DataFrame(results)\n",
    "\n",
    "# 打印结果\n",
    "print(\"Model Comparison:\")\n",
    "print(results_df.sort_values(by='Test Accuracy (%)', ascending=False))\n",
    "\n",
    "# 绘制条形图\n",
    "plt.figure(figsize=(10, 6))\n",
    "sns.barplot(x='Test Accuracy (%)', y='Model', data=results_df, palette='viridis')\n",
    "\n",
    "# 添加标题和标签\n",
    "plt.title('Model Comparison by Test Accuracy', fontsize=16)\n",
    "plt.xlabel('Test Accuracy (%)', fontsize=14)\n",
    "plt.ylabel('Model', fontsize=14)\n",
    "\n",
    "# 显示图表\n",
    "plt.show()\n"
   ]
  }
 ],
 "metadata": {
  "kernelspec": {
   "display_name": "Machine_Learning",
   "language": "python",
   "name": "machine_learning"
  },
  "language_info": {
   "codemirror_mode": {
    "name": "ipython",
    "version": 3
   },
   "file_extension": ".py",
   "mimetype": "text/x-python",
   "name": "python",
   "nbconvert_exporter": "python",
   "pygments_lexer": "ipython3",
   "version": "3.7.16"
  }
 },
 "nbformat": 4,
 "nbformat_minor": 5
}
